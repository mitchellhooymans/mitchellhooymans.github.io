{
 "cells": [
  {
   "cell_type": "markdown",
   "id": "b0c66ffc",
   "metadata": {},
   "source": [
    "# Python for Health Data: Pregnancy Analysis Tutorial\n",
    "\n",
    "This interactive Jupyter notebook walks you through Python programming concepts using real-world examples from pregnancy and birth outcome data. Each section introduces a core Python concept with explanations and executable code. Use this notebook to learn, experiment, and analyze health data in Python!"
   ]
  },
  {
   "cell_type": "markdown",
   "id": "832b11a6",
   "metadata": {},
   "source": [
    "## 1. Introduction to Python for Health Data\n",
    "\n",
    "Python is a high-level, general-purpose programming language known for its simple, readable syntax. It's widely used in data science, especially for analyzing health and pregnancy data. In this tutorial, you'll learn Python fundamentals through practical examples relevant to pregnancy and birth outcomes."
   ]
  },
  {
   "cell_type": "markdown",
   "id": "d8298c00",
   "metadata": {},
   "source": [
    "### Getting Started with VS Code and Jupyter Notebooks\n",
    "\n",
    "**VS Code** and **Jupyter Notebooks** are powerful tools for writing and running Python code interactively.\n",
    "\n",
    "- **Running Code:**\n",
    "  - In a Jupyter notebook, click on a code cell and press `Shift+Enter` to run it. The output appears just below the cell.\n",
    "  - In VS Code, you can open a `.ipynb` file and use the same shortcuts, or click the ▶️ (Run) button next to a cell.\n",
    "- **Creating Cells:**\n",
    "  - Click the `+ Code` or `+ Markdown` button in the notebook toolbar to add new cells.\n",
    "  - You can also use keyboard shortcuts: `A` (above) or `B` (below) to add a cell when a cell is selected.\n",
    "- **Editing Cells:**\n",
    "  - Double-click a cell to edit it. Press `Esc` to leave edit mode.\n",
    "- **Markdown Cells:**\n",
    "  - Use markdown cells for formatted text, section headers, bullet points, and explanations. Start a cell as markdown, then write text using `#` for headings, `*` for bullet points, etc.\n",
    "- **Saving Work:**\n",
    "  - Save your notebook regularly (`Ctrl+S` or `Cmd+S`)."
   ]
  },
  {
   "cell_type": "markdown",
   "id": "a30f12dc",
   "metadata": {},
   "source": [
    "### Using Google Colab\n",
    "\n",
    "**Google Colab** is a free, cloud-based platform for running Jupyter notebooks in your browser—no installation required.\n",
    "\n",
    "- **Opening a Notebook:**\n",
    "  - Go to [colab.research.google.com](https://colab.research.google.com).\n",
    "  - Click `File > Upload Notebook` to upload your `.ipynb` file, or open from Google Drive.\n",
    "- **Running Code:**\n",
    "  - Click on a code cell and press `Shift+Enter`, or click the ▶️ (Run) button to execute the cell.\n",
    "- **Creating Cells:**\n",
    "  - Use the `+ Code` or `+ Text` buttons to add new code or markdown cells.\n",
    "- **Editing Cells:**\n",
    "  - Double-click a cell to edit. Press `Esc` to leave edit mode.\n",
    "- **Saving Work:**\n",
    "  - Changes are saved automatically to your Google Drive if the notebook is opened from there.\n"
   ]
  },
  {
   "cell_type": "markdown",
   "id": "39e20aed",
   "metadata": {},
   "source": [
    "## 2. The Core: Variables, Data Types & Operators\n",
    "\n",
    "Variables store information in Python. Data types include integers, floats, strings, and booleans. Operators let you perform calculations and comparisons. Let's see how these work with pregnancy data."
   ]
  },
  {
   "cell_type": "code",
   "execution_count": 9,
   "id": "832f9580",
   "metadata": {},
   "outputs": [
    {
     "name": "stdout",
     "output_type": "stream",
     "text": [
      "Patient is 34 years old.\n",
      "Gestational age: 28 weeks.\n"
     ]
    }
   ],
   "source": [
    "# Variables for patient data\n",
    "maternal_age = 34\n",
    "patient_id = \"PAT-00123\"\n",
    "gestational_age_weeks = 28\n",
    "is_first_pregnancy = False\n",
    "\n",
    "print(f\"Patient is {maternal_age} years old.\")\n",
    "print(f\"Gestational age: {gestational_age_weeks} weeks.\")"
   ]
  },
  {
   "cell_type": "code",
   "execution_count": 10,
   "id": "fa04f08b",
   "metadata": {},
   "outputs": [
    {
     "name": "stdout",
     "output_type": "stream",
     "text": [
      "Weeks remaining (approx): 12\n",
      "Patient is over 30: True\n"
     ]
    }
   ],
   "source": [
    "# Using operators\n",
    "full_term_weeks = 40\n",
    "weeks_remaining = full_term_weeks - gestational_age_weeks\n",
    "print(f\"Weeks remaining (approx): {weeks_remaining}\")\n",
    "\n",
    "is_over_30 = maternal_age > 30\n",
    "print(f\"Patient is over 30: {is_over_30}\")"
   ]
  },
  {
   "cell_type": "markdown",
   "id": "f701f2ac",
   "metadata": {},
   "source": [
    "## 3. Structuring Data: Lists & Dictionaries\n",
    "\n",
    "Lists store ordered collections of items, such as weekly weight measurements. Dictionaries store key-value pairs, perfect for organizing patient or newborn records."
   ]
  },
  {
   "cell_type": "code",
   "execution_count": 11,
   "id": "b24fc5ca",
   "metadata": {},
   "outputs": [
    {
     "name": "stdout",
     "output_type": "stream",
     "text": [
      "Weight at week 12: 61.5 kg\n",
      "Total number of check-ins: 5\n"
     ]
    }
   ],
   "source": [
    "# A list of weekly weight measurements in kg\n",
    "weekly_weights = [60.2, 60.8, 61.5, 62.1]\n",
    "\n",
    "# Access the third measurement (index 2)\n",
    "weight_at_week_12 = weekly_weights[2]\n",
    "print(f\"Weight at week 12: {weight_at_week_12} kg\")\n",
    "\n",
    "# Add a new measurement\n",
    "weekly_weights.append(62.9)\n",
    "print(f\"Total number of check-ins: {len(weekly_weights)}\")"
   ]
  },
  {
   "cell_type": "markdown",
   "id": "c74c045a",
   "metadata": {},
   "source": [
    "Dictionaries are very useful, and they allow us to store information using key-value pairs, like the ones shown below. We can use a key (i.e birth_weight_g) to access its corresponding value (i.e 3450)."
   ]
  },
  {
   "cell_type": "code",
   "execution_count": 12,
   "id": "adbb71a1",
   "metadata": {},
   "outputs": [
    {
     "name": "stdout",
     "output_type": "stream",
     "text": [
      "Newborn's APGAR score at 5 mins: 9\n"
     ]
    }
   ],
   "source": [
    "# A dictionary for a newborn's birth record\n",
    "newborn_record = {\n",
    "    \"birth_weight_g\": 3450,\n",
    "    \"length_cm\": 51,\n",
    "    \"apgar_1min\": 8,\n",
    "    \"apgar_5min\": 9,\n",
    "    \"delivery_type\": \"Vaginal\"\n",
    "}\n",
    "# Access a value by its key\n",
    "apgar_score = newborn_record[\"apgar_5min\"]\n",
    "print(f\"Newborn's APGAR score at 5 mins: {apgar_score}\")"
   ]
  },
  {
   "cell_type": "markdown",
   "id": "b1ee58ea",
   "metadata": {},
   "source": [
    "## 4. Controlling the Flow: Conditional Logic & Loops\n",
    "\n",
    "Conditional statements let your code make decisions. Loops let you repeat actions for each item in a sequence. Let's classify trimesters and check blood pressure readings."
   ]
  },
  {
   "cell_type": "code",
   "execution_count": 13,
   "id": "cbcaed6b",
   "metadata": {},
   "outputs": [
    {
     "name": "stdout",
     "output_type": "stream",
     "text": [
      "This is the Second Trimester.\n"
     ]
    }
   ],
   "source": [
    "# Classify gestational age into trimesters\n",
    "gestational_age = 15 # in weeks\n",
    "\n",
    "if gestational_age <= 12:\n",
    "    print(\"This is the First Trimester.\")\n",
    "elif gestational_age <= 27:\n",
    "    print(\"This is the Second Trimester.\")\n",
    "else:\n",
    "    print(\"This is the Third Trimester.\")"
   ]
  },
  {
   "cell_type": "code",
   "execution_count": 14,
   "id": "19645d16",
   "metadata": {},
   "outputs": [
    {
     "name": "stdout",
     "output_type": "stream",
     "text": [
      "Checking reading: 120/80 - Normal\n",
      "Checking reading: 125/85 - Elevated\n",
      "ALERT: High blood pressure detected: 142/91\n",
      "Checking reading: 138/88 - Elevated\n"
     ]
    }
   ],
   "source": [
    "# Check a list of blood pressure readings\n",
    "bp_readings = [\"120/80\", \"125/85\", \"142/91\", \"138/88\"]\n",
    "\n",
    "for reading in bp_readings:\n",
    "    systolic = int(reading.split('/')[0]) ## Here we are extracting the value using .split\n",
    "    diastolic = int(reading.split('/')[1]) ## and converting the type from a string to an integer using int()\n",
    "\n",
    "    if systolic >= 140 or diastolic >= 90: ## Now that the type is correct we can compare numbers\n",
    "        print(f\"ALERT: High blood pressure detected: {reading}\")\n",
    "    elif systolic >= 130 or diastolic > 80:\n",
    "        print(f\"Checking reading: {reading} - Elevated\")\n",
    "    else:\n",
    "        print(f\"Checking reading: {reading} - Normal\")"
   ]
  },
  {
   "cell_type": "markdown",
   "id": "33649720",
   "metadata": {},
   "source": [
    "## 5. Building Blocks: Functions\n",
    "\n",
    "Functions are reusable blocks of code that perform specific tasks. You can define a function to categorize birth weight and call it for different newborns."
   ]
  },
  {
   "cell_type": "code",
   "execution_count": 15,
   "id": "a330f582",
   "metadata": {},
   "outputs": [],
   "source": [
    "# Define a function to categorize birth weight\n",
    "def categorize_birth_weight(weight_grams):\n",
    "    \"\"\"Categorizes birth weight in grams.\"\"\"\n",
    "    if weight_grams < 2500:\n",
    "        return \"Low\"\n",
    "    elif weight_grams > 4000:\n",
    "        return \"High\"\n",
    "    else:\n",
    "        return \"Normal\"\n"
   ]
  },
  {
   "cell_type": "markdown",
   "id": "9ac9d0f1",
   "metadata": {},
   "source": [
    "Now that we have created the function (a reusable block of code), we can call it with different inputs to categorize birth weights easily."
   ]
  },
  {
   "cell_type": "code",
   "execution_count": 16,
   "id": "e61897c3",
   "metadata": {},
   "outputs": [
    {
     "name": "stdout",
     "output_type": "stream",
     "text": [
      "Birth weight category: Normal\n"
     ]
    }
   ],
   "source": [
    "category1 = categorize_birth_weight(3200) # Here we use the function to categorize a birth weight of 3200 grams\n",
    "print(f\"Birth weight category: {category1}\")"
   ]
  },
  {
   "cell_type": "code",
   "execution_count": 17,
   "id": "cada5d3d",
   "metadata": {},
   "outputs": [
    {
     "name": "stdout",
     "output_type": "stream",
     "text": [
      "Birth weight category: Low\n"
     ]
    }
   ],
   "source": [
    "category2 = categorize_birth_weight(2400)\n",
    "print(f\"Birth weight category: {category2}\")"
   ]
  },
  {
   "cell_type": "markdown",
   "id": "fb155790",
   "metadata": {},
   "source": [
    "## 6. Handling Errors: The try...except Block\n",
    "\n",
    "When working with real-world data, errors can occur (e.g., missing or invalid values). The `try...except` block lets you handle these errors gracefully without crashing your program."
   ]
  },
  {
   "cell_type": "code",
   "execution_count": 18,
   "id": "987401ec",
   "metadata": {},
   "outputs": [
    {
     "name": "stdout",
     "output_type": "stream",
     "text": [
      "Value 'N/A' is not a valid number and was skipped.\n",
      "Average APGAR score: 8.666666666666666\n"
     ]
    }
   ],
   "source": [
    "# Calculate average from a list with a bad data point\n",
    "apgar_scores = [8, 9, \"N/A\", 9]\n",
    "total_score = 0\n",
    "valid_count = 0\n",
    "\n",
    "for score in apgar_scores:\n",
    "    try:\n",
    "        # Try to convert the score to a number\n",
    "        total_score += int(score)\n",
    "        valid_count += 1\n",
    "    except ValueError:\n",
    "        # If it fails, print a message and continue\n",
    "        print(f\"Value '{score}' is not a valid number and was skipped.\")\n",
    "\n",
    "average_score = total_score / valid_count\n",
    "print(f\"Average APGAR score: {average_score}\")"
   ]
  },
  {
   "cell_type": "markdown",
   "id": "5b1db226",
   "metadata": {},
   "source": [
    "## 7. Working with Files\n",
    "\n",
    "Analyzing health data often involves reading from or writing to files. The `with open(...)` syntax is the standard way to handle files, as it ensures they are closed properly. This example simulates writing patient notes to a text file."
   ]
  },
  {
   "cell_type": "code",
   "execution_count": 19,
   "id": "7dc6dbbb",
   "metadata": {},
   "outputs": [
    {
     "name": "stdout",
     "output_type": "stream",
     "text": [
      "Writing report to 'patient_PAT-00123.txt'...\n",
      "Report saved successfully.\n"
     ]
    }
   ],
   "source": [
    "# Data to be written to a file\n",
    "patient_id = \"PAT-00123\"\n",
    "notes = \"Patient at 32 weeks. Reports normal fetal movement. Blood pressure is stable at 122/81. Scheduled for follow-up in 2 weeks.\"\n",
    "filename = f\"patient_{patient_id}.txt\"\n",
    "\n",
    "print(f\"Writing report to '{filename}'...\")\n",
    "# Simulate writing the file (uncomment to actually write)\n",
    "# with open(filename, \"w\") as f:\n",
    "#     f.write(\"Patient Visit Notes\\n\")\n",
    "#     f.write(\"--------------------\\n\")\n",
    "#     f.write(notes)\n",
    "print(\"Report saved successfully.\")"
   ]
  },
  {
   "cell_type": "markdown",
   "id": "8f8bbaf7",
   "metadata": {},
   "source": [
    "## 8. Modules & Packages\n",
    "\n",
    "A module is a Python file with functions you can import. A package is a collection of modules. For health data, key packages include Pandas (for data tables) and Matplotlib (for charts). Let's analyze and visualize a small dataset of births by day of the week."
   ]
  },
  {
   "cell_type": "code",
   "execution_count": null,
   "id": "125d5252",
   "metadata": {},
   "outputs": [
    {
     "data": {
      "application/vnd.microsoft.datawrangler.viewer.v0+json": {
       "columns": [
        {
         "name": "index",
         "rawType": "int64",
         "type": "integer"
        },
        {
         "name": "Day",
         "rawType": "object",
         "type": "string"
        },
        {
         "name": "Births",
         "rawType": "int64",
         "type": "integer"
        }
       ],
       "ref": "3fcf6075-65e0-46b9-a1bf-40b7ba01e7a9",
       "rows": [
        [
         "0",
         "Mon",
         "450"
        ],
        [
         "1",
         "Tues",
         "510"
        ],
        [
         "2",
         "Wed",
         "505"
        ],
        [
         "3",
         "Thurs",
         "480"
        ],
        [
         "4",
         "Fri",
         "460"
        ],
        [
         "5",
         "Sat",
         "350"
        ],
        [
         "6",
         "Sun",
         "310"
        ]
       ],
       "shape": {
        "columns": 2,
        "rows": 7
       }
      },
      "text/html": [
       "<div>\n",
       "<style scoped>\n",
       "    .dataframe tbody tr th:only-of-type {\n",
       "        vertical-align: middle;\n",
       "    }\n",
       "\n",
       "    .dataframe tbody tr th {\n",
       "        vertical-align: top;\n",
       "    }\n",
       "\n",
       "    .dataframe thead th {\n",
       "        text-align: right;\n",
       "    }\n",
       "</style>\n",
       "<table border=\"1\" class=\"dataframe\">\n",
       "  <thead>\n",
       "    <tr style=\"text-align: right;\">\n",
       "      <th></th>\n",
       "      <th>Day</th>\n",
       "      <th>Births</th>\n",
       "    </tr>\n",
       "  </thead>\n",
       "  <tbody>\n",
       "    <tr>\n",
       "      <th>0</th>\n",
       "      <td>Mon</td>\n",
       "      <td>450</td>\n",
       "    </tr>\n",
       "    <tr>\n",
       "      <th>1</th>\n",
       "      <td>Tues</td>\n",
       "      <td>510</td>\n",
       "    </tr>\n",
       "    <tr>\n",
       "      <th>2</th>\n",
       "      <td>Wed</td>\n",
       "      <td>505</td>\n",
       "    </tr>\n",
       "    <tr>\n",
       "      <th>3</th>\n",
       "      <td>Thurs</td>\n",
       "      <td>480</td>\n",
       "    </tr>\n",
       "    <tr>\n",
       "      <th>4</th>\n",
       "      <td>Fri</td>\n",
       "      <td>460</td>\n",
       "    </tr>\n",
       "    <tr>\n",
       "      <th>5</th>\n",
       "      <td>Sat</td>\n",
       "      <td>350</td>\n",
       "    </tr>\n",
       "    <tr>\n",
       "      <th>6</th>\n",
       "      <td>Sun</td>\n",
       "      <td>310</td>\n",
       "    </tr>\n",
       "  </tbody>\n",
       "</table>\n",
       "</div>"
      ],
      "text/plain": [
       "     Day  Births\n",
       "0    Mon     450\n",
       "1   Tues     510\n",
       "2    Wed     505\n",
       "3  Thurs     480\n",
       "4    Fri     460\n",
       "5    Sat     350\n",
       "6    Sun     310"
      ]
     },
     "metadata": {},
     "output_type": "display_data"
    },
    {
     "data": {
      "image/png": "[encoded data removed]",
      "text/plain": [
       "<Figure size 800x400 with 1 Axes>"
      ]
     },
     "metadata": {},
     "output_type": "display_data"
    }
   ],
   "source": [
    "import pandas as pd\n",
    "import matplotlib.pyplot as plt\n",
    "\n",
    "# Raw data for births per day \n",
    "data = {\n",
    "    'Day': ['Mon', 'Tues', 'Wed', 'Thurs', 'Fri', 'Sat', 'Sun'],\n",
    "    'Births': [450, 510, 505, 480, 460, 350, 310]\n",
    "}\n",
    "df = pd.DataFrame(data)\n",
    "display(df)\n",
    "\n",
    "# Plot bar chart\n",
    "plt.figure(figsize=(8,4))\n",
    "plt.bar(df['Day'], df['Births'], color='#76A9FA', edgecolor='#4299E1')\n",
    "plt.title('Births per Day of the Week')\n",
    "plt.xlabel('Day')\n",
    "plt.ylabel('Number of Births')\n",
    "plt.show()"
   ]
  },
  {
   "cell_type": "markdown",
   "id": "c0e749d1",
   "metadata": {},
   "source": [
    "## 9. Putting It All Together: A Due Date Calculator\n",
    "\n",
    "This final example combines variables, data structures, functions, and error handling to create a useful tool: an estimated due date (EDD) calculator based on the last menstrual period (LMP)."
   ]
  },
  {
   "cell_type": "code",
   "execution_count": 21,
   "id": "e1964abf",
   "metadata": {},
   "outputs": [
    {
     "name": "stdout",
     "output_type": "stream",
     "text": [
      "--- Due Date Calculations ---\n",
      "LMP: 2023-06-15 -> Estimated Due Date: 2024-03-21\n",
      "LMP: 2024-01-20 -> Estimated Due Date: 2024-10-26\n",
      "Error processing date '2023/12/25': Invalid date format. Please use YYYY-MM-DD.\n"
     ]
    }
   ],
   "source": [
    "from datetime import datetime, timedelta\n",
    "\n",
    "def calculate_edd(lmp_date_str):\n",
    "    \"\"\"Calculates the estimated due date from an LMP date string.\"\"\"\n",
    "    try:\n",
    "        # Try to convert the string to a date object\n",
    "        lmp_date = datetime.strptime(lmp_date_str, '%Y-%m-%d')\n",
    "        # Naegele's Rule: Add 280 days\n",
    "        edd = lmp_date + timedelta(days=280)\n",
    "        return edd.strftime('%Y-%m-%d')\n",
    "    except ValueError:\n",
    "        return f\"Invalid date format. Please use YYYY-MM-DD.\"\n",
    "\n",
    "# A list of LMP dates to process\n",
    "lmp_dates = [\"2023-06-15\", \"2024-01-20\", \"2023/12/25\"]\n",
    "\n",
    "print(\"--- Due Date Calculations ---\")\n",
    "for lmp in lmp_dates:\n",
    "    edd = calculate_edd(lmp)\n",
    "    if \"Invalid\" in edd:\n",
    "        print(f\"Error processing date '{lmp}': {edd}\")\n",
    "    else:\n",
    "        print(f\"LMP: {lmp} -> Estimated Due Date: {edd}\")"
   ]
  }
 ],
 "metadata": {
  "kernelspec": {
   "display_name": "astro_nbody",
   "language": "python",
   "name": "python3"
  },
  "language_info": {
   "codemirror_mode": {
    "name": "ipython",
    "version": 3
   },
   "file_extension": ".py",
   "mimetype": "text/x-python",
   "name": "python",
   "nbconvert_exporter": "python",
   "pygments_lexer": "ipython3",
   "version": "3.9.21"
  }
 },
 "nbformat": 4,
 "nbformat_minor": 5
}
